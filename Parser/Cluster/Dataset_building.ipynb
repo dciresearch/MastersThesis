{
 "cells": [
  {
   "cell_type": "code",
   "execution_count": 1,
   "metadata": {},
   "outputs": [],
   "source": [
    "import dataset"
   ]
  },
  {
   "cell_type": "code",
   "execution_count": 2,
   "metadata": {},
   "outputs": [],
   "source": [
    "import random"
   ]
  },
  {
   "cell_type": "code",
   "execution_count": 3,
   "metadata": {},
   "outputs": [
    {
     "data": {
      "text/plain": [
       "({'date': '2020-11-04 00:05:33',\n",
       "  'id': 'kommersant_doc/4558821',\n",
       "  'title': 'Фотокор “Ъ” избит в Москве при выполнении редакционного задания',\n",
       "  'text': 'Фотокорреспондент “Ъ” Анатолий Жданов избит неизвестными. Во вторник, 3 ноября, он получил редакционное задание снять витрины обменных пунктов с курсами валют. Жанровую съемку он решил провести на Кутузовском проспекте, где на него напали люди в форме ЧОПа.\\\\n«Я поснимал там несколько банков, потом по пути попался обменник,— рассказал он.— По-моему, на нем даже вывески не было — только курсы валют». Фотокор говорит, что находился в этот момент в районе дома №18 по Кутузовскому проспекту. Из обменника выбежали несколько человек. Возможно, это были охранники, поскольку на двоих была форма чоповцев. Они потребовали от господина Жданова показать фотографии. Тот отказался, после чего его начали избивать.\\\\n«Били по лицу, потом повалили, пока я не согласился показать съемку»,— рассказал фотокорреспондент. Ему пришлось стереть фото с флешки, однако нападавшие, видимо, решили для верности отобрать аппаратуру. В этот момент Анатолию Жданову удалось вырваться и перебежать через Кутузовский проспект.\\\\nПреследователи не рискнули гнаться за ним, поскольку движение было напряженным. Более того, фотокор даже смог снять с расстояния нескольких сот метров нападавших.\\\\nПосле он вызвал полицию и скорую. «Ушибы мягких тканей, рваная рана лица»,— говорится в заключении медиков. Затем Анатолий Жданов отправился в ОМВД по Дорогомиловскому району, где подробно описал нападение.\\\\nПолиция рассматривает возможность возбуждения уголовного дела. К расследованию инцидента готов подключиться Следственный комитет России, поскольку действия злоумышленников подпадают не только под санкции ст. 116 (побои), но и ст. 144 УК (воспрепятствование законной профессиональной деятельности журналистов). Отметим, что в доме №18 по Кутузовскому проспекту расположено не отделение банка, а некая операционная касса.'},\n",
       " {'date': '2020-11-04 03:01:00',\n",
       "  'id': 'gazeta_social/news/2020/11/04/n_15176377.shtml',\n",
       "  'title': 'В Москве неизвестные напали на фотокорреспондента «Ъ»',\n",
       "  'text': 'Неизвестные в форме ЧОПа избили фотокорреспондента газеты «Коммерсантъ» Анатолия Жданова на Кутузовском проспекте в Москве, сообщила редакция издания.\\\\nПо словам самого журналиста, он занимался съемкой обменных пунктов с курсами валют. В какой-то момент из обменника выбежали несколько мужчин и потребовали от Жданова показать фотографии. После отказа они начали его избивать.\\\\n«Били по лицу, потом повалили, пока я не согласился показать съемку», — рассказал фотокор.\\\\nПосле избиения неизвестные отобрали у Жданова аппаратуру, но ему самому удалось сбежать. Прибывшая скорая помощь зафиксировала у журналиста рваную рану лица и ушиб мягких тканей.\\\\nОтмечается, что Жданов уже обратился в полицию с заявлением о нападении. Правоохранители намерены возбудить против нападавших уголовное дело по статьям «Побои» и «Воспрепятствование законной профессиональной деятельности журналистов». Устанавливаются все обстоятельства произошедшего.'})"
      ]
     },
     "execution_count": 3,
     "metadata": {},
     "output_type": "execute_result"
    }
   ],
   "source": [
    "data=sum(dataset.dataset_iter(),[])\n",
    "data[0]"
   ]
  },
  {
   "cell_type": "code",
   "execution_count": 4,
   "metadata": {},
   "outputs": [],
   "source": [
    "random.seed(100)\n",
    "random.shuffle(data)"
   ]
  },
  {
   "cell_type": "code",
   "execution_count": 5,
   "metadata": {},
   "outputs": [
    {
     "data": {
      "text/plain": [
       "({'date': '2018-11-01 01:38:44',\n",
       "  'id': 'kommersant_doc/3787120',\n",
       "  'title': 'Решение о подъеме затонувшего в Мурманске плавдока примут в ближайшее время',\n",
       "  'text': 'Решение о подъеме затонувшего в Мурманске плавдока ПД-50 будет принято в течение двух дней, сообщил в среду министр промышленности и торговли РФ Денис Мантуров. «Будет приниматься решение, сейчас водолазы работают. В ближайшие два дня будет принято решение»,— приводит ТАСС его ответ на вопрос,  планируется ли поднимать док. По словам господина Мантурова, после поднятия дока можно будет оценить ущерб, нанесенный авианосцу «Адмирал Кузнецов».\\\\nВо вторник в Кольском заливе был утоплен плавучий док ПД-50, который использовался для ремонта авианесущего крейсера ВМФ РФ «Адмирал Кузнецов». По предварительной версии, причиной аварии стали перебои с подачей на ПД-50 электроэнергии, из-за чего док стал неконтролируемо погружаться на дно. Четыре человека пострадали, один пропал без вести.\\\\nВ Минпромторге “Ъ” заявили, что «решение о восстановлении плавдока будет принято после его подъема». А на это, с учетом гигантских габаритов ПД-50, могут уйти месяцы.\\\\nПодробнее о ЧП читайте в публикации “Ъ” «Флот ударило доком».'},\n",
       " {'date': '2018-10-31 21:18:00',\n",
       "  'id': 'interfax_russia/636004',\n",
       "  'title': 'Решение о подъеме затонувшего в Мурманске дока примут в ближайшие два дня',\n",
       "  'text': 'Ущерб от аварии в Мурманске с плавучим доком ПД-50 можно будет в полном объеме оценить только после его поднятия на поверхность, а решение об этом пока не принято, сообщил глава Минпромторга Денис Мантуров.\\\\n\"Будет приниматься решение. Сейчас водолазы работают. В ближайшие два дня будет принято решение (поднимать затонувший плавдок или нет - ИФ)\", - сказал Мантуров журналистам, отвечая на вопрос\" Интерфакса\", каков ущерб от аварии.\\\\nОдин из крупнейших плавучих доков в мире ПД-50 затонул на 82-м судоремонтном заводе (микрорайон Росляково, Мурманск) в ночь на 30 октября при выходе из него тяжелого авианесущего крейсера \"Адмирал Кузнецов\". При этом четверо рабочих пострадали, а пятый - сменный механик 1960 года рождения - пропал без вести.\\\\nПД-50 был построен в 1980 году в Швеции, он имеет длину 330 м, ширину 67 м, грузоподъемность - 80 тысяч тонн.\\\\nНакануне глава ОСК Алексей Рахманов сообщил \"Интерфаксу\", что пока нет ясности, будет ли поднят затонувший плавучий док. \"Сказать точно, насколько возможно поднять этот док, можно будет после того, как этот объект обследуют водолазы и посмотрят, в каком состоянии находится оборудование. Глубины у причальной стенки 82-го завода весьма большие. Даже не опираясь на техническую возможность, эта операция (подъема - ИФ) будет непростой и, скорее всего, очень дорогостоящей\", - сказал глава ОСК.\\\\nПозднее вице-премьер Юрий Борисов заявил, что комиссия по расследованию причин аварии плавучего дока в Мурманске, скорее всего, примет решение о его подъеме со дна. \"Это решит комиссия. Но скорее да, чем нет\", - сказал Борисов журналистам в Гаване.'})"
      ]
     },
     "execution_count": 5,
     "metadata": {},
     "output_type": "execute_result"
    }
   ],
   "source": [
    "data[0]"
   ]
  },
  {
   "cell_type": "code",
   "execution_count": 6,
   "metadata": {},
   "outputs": [],
   "source": [
    "import math"
   ]
  },
  {
   "cell_type": "code",
   "execution_count": 7,
   "metadata": {},
   "outputs": [],
   "source": [
    "size=len(data)\n",
    "\n",
    "spl=[0,math.floor(size*0.8),math.floor(size*0.9),size]\n",
    "\n",
    "train,val,test=(data[i:j] for i,j in zip(spl,spl[1:]))"
   ]
  },
  {
   "cell_type": "code",
   "execution_count": 8,
   "metadata": {},
   "outputs": [
    {
     "data": {
      "text/plain": [
       "({'date': '2016-05-19 13:18:01',\n",
       "  'id': 'kommersant_doc/2990581',\n",
       "  'title': 'По делу о драке на Хованском кладбище арестован глава подразделения «Ритуала»',\n",
       "  'text': 'Пресненский суд Москвы сегодня арестовал начальника территориального отделения №3 ГБУ «Ритуал» Юрия Чабуева. Так, суд удовлетворил ходатайство следствия. «Исследовав все материалы, суд приходит к выводу, что ходатайство следствия подлежит удовлетворению»,— приводит «Интерфакс» слова судьи.\\\\nРанее «Ъ» сообщал, что причиной побоища на Хованском кладбище Москвы мог стать бытовой конфликт между одним из фигурантов уголовного дела и таджиками, которые нелегально работали на погосте. Согласно этой версии, выдвинутой представителями подозреваемых, Юрий Чабуев, управляющий 30 кладбищами, в том числе Хованским, подключился к разборкам позднее, рассчитывая их предотвратить. Между тем СКР, считающий именно Юрия Чабуева организатором беспорядков, просит очевидцев происшедшего предоставить в распоряжение следствия видеозаписи и фото, снятые мобильными телефонами.\\\\nПодробнее об этом читайте в материале «Ъ» «Разборка на Хованском началась из-за могилы».'},\n",
       " {'date': '2016-05-19 13:34:09',\n",
       "  'id': 'rain_news/sud_arestoval-409623',\n",
       "  'title': 'Суд арестовал экс-главу Хованского кладбища по делу о массовой драке',\n",
       "  'text': 'Пресненский суд Москвы арестовал бывшего руководителя Хованского кладбища и главу ГБУ «Ритуал» Юрия Чабуева. Об этом в четверг, 19 мая, сообщает «Интерфакс».\\\\nКроме того, суд арестовал бывшего сотрудника патрульно-постовой службы полиции ОМВД по Москве по району Хамовники Никиту Мошенко.\\\\nАгентству сообщили, что суд также удовлетворил ходатайство об аресте 14-го фигуранта дела Лечи Яхьева, которого обвиняют в хулиганстве.\\\\nРанее во время судебного заседания, следствие заявило, что подозреваемый в организации конфликта на Хованском кладбище Чабуев сам пригласил уроженцев Северного Кавказа, чтобы они помогли решить вопрос с мигрантами.\\\\nКонфликт на Хованском кладбище произошел в субботу, 14 мая. Около 200 человек, среди которых были уроженцы Центральной Азии и Северного Кавказа, устроили драку. Среди них были мигранты, которые занимались уборкой кладбища и обустройством могил.\\\\nВ результате погибли три человека, еще 23 пострадали. Полицейские изъяли на месте драки небоевой автомат Калашникова, два травматических пистолета, а также другие объекты для расследования.\\\\nСледствие утверждало, что массовая драка произошла из-за финансового вопроса.\\\\nВ понедельник, 17 мая, Пресненский суд Москвы продлил Юрию Чабуеву срок задержания на 72 часа.'})"
      ]
     },
     "execution_count": 8,
     "metadata": {},
     "output_type": "execute_result"
    }
   ],
   "source": [
    "val[0]"
   ]
  },
  {
   "cell_type": "code",
   "execution_count": 10,
   "metadata": {},
   "outputs": [],
   "source": [
    "import nltk.data"
   ]
  },
  {
   "cell_type": "code",
   "execution_count": 71,
   "metadata": {},
   "outputs": [],
   "source": [
    "from razdel import sentenize"
   ]
  },
  {
   "cell_type": "code",
   "execution_count": 70,
   "metadata": {},
   "outputs": [],
   "source": [
    "def check_citation(sent,skip_next,thrs=3):\n",
    "    start=0\n",
    "    end=0\n",
    "    tmp=sent.split()\n",
    "    for t,tok in enumerate(tmp):\n",
    "        if '«' in tok:\n",
    "            #if (len(tok)>1 and str.isupper(tok[1])) or (t+1<len(tmp) and str.isupper(tmp[t+1][0])):\n",
    "            start=t+1\n",
    "        if '»' in tok:\n",
    "            end=t+1\n",
    "            skip_next[0]=False\n",
    "            break\n",
    "    if skip_next[0]:\n",
    "        print('\\nSkipped', start, end)\n",
    "        print(sent)\n",
    "        print('\\n')\n",
    "        return True\n",
    "    if (start==1 or (not start and end)): \n",
    "        if '»' not in sent:\n",
    "            end=start+thrs+1\n",
    "            skip_next[0]=True\n",
    "        if abs(end-start)>thrs:\n",
    "            #if '«' not in sent or '»' not in sent:\n",
    "            print('\\nSkipped', start, end)\n",
    "            print(sent)\n",
    "            print('\\n')\n",
    "            return True\n",
    "    print(sent)\n",
    "    return False"
   ]
  },
  {
   "cell_type": "code",
   "execution_count": null,
   "metadata": {},
   "outputs": [],
   "source": [
    "splits=[train,val,test]\n",
    "new_splits=[]\n",
    "\n",
    "for s in splits:\n",
    "    tmp=[]\n",
    "    for pair in s:\n",
    "        skip_flag=[False]\n",
    "        target,source=dataset.get_art_summary(pair)\n",
    "        target=\" \".join([sent.text for sent in sentenize(target) if not check_citation(sent.text,skip_flag)][:3])\n",
    "        if target:\n",
    "            tmp.append({'target':target,'source':source})\n",
    "    new_splits.append(tmp)"
   ]
  },
  {
   "cell_type": "code",
   "execution_count": 73,
   "metadata": {},
   "outputs": [],
   "source": [
    "c=0\n",
    "for i,spl in enumerate(new_splits):\n",
    "    for j,pair in enumerate(spl):\n",
    "        tmp=list(sentenize(pair['target']))\n",
    "        if len(tmp)<1:\n",
    "            c+=1\n",
    "            pp=dataset.get_art_summary(splits[i][j])\n",
    "            check_citation(pp[0])\n",
    "            for pr in pp:\n",
    "                print(pr)"
   ]
  },
  {
   "cell_type": "code",
   "execution_count": 77,
   "metadata": {},
   "outputs": [],
   "source": [
    "import os\n",
    "import json"
   ]
  },
  {
   "cell_type": "code",
   "execution_count": 78,
   "metadata": {},
   "outputs": [],
   "source": [
    "from razdel import tokenize"
   ]
  },
  {
   "cell_type": "code",
   "execution_count": 79,
   "metadata": {},
   "outputs": [],
   "source": [
    "split_names=[\"train\",\"validate\",\"test\"]\n",
    "complete_dir='./built'\n",
    "\n",
    "for pairs,name in zip(new_splits,split_names):\n",
    "    with open(os.path.join(complete_dir,name+'.jsonl'), mode='w', encoding='utf-8') as f:\n",
    "        for p in pairs:\n",
    "            json.dump(p,f, ensure_ascii=False)\n",
    "            f.write('\\n')"
   ]
  },
  {
   "cell_type": "code",
   "execution_count": 84,
   "metadata": {},
   "outputs": [],
   "source": [
    "split_names=[\"train\",\"valid\",\"test\"]"
   ]
  },
  {
   "cell_type": "code",
   "execution_count": 85,
   "metadata": {},
   "outputs": [],
   "source": [
    "save_dict='./presumm'\n",
    "shard_size=2000\n",
    "\n",
    "for pairs,name in zip(new_splits,split_names):\n",
    "    pc=0\n",
    "    tmp=[]\n",
    "    for p in pairs:\n",
    "        t=p['target']\n",
    "        s=p['source']\n",
    "        t=[[tok.text for tok in tokenize(sent.text)] for sent in sentenize(t)]\n",
    "        s=[[tok.text for tok in tokenize(sent.text)] for sent in sentenize(s)]\n",
    "        tmp.append({'tgt':t,'src':s})\n",
    "        if len(tmp)==shard_size:\n",
    "            file=os.path.join(save_dict,\"runews.{}.{}.json\".format(name,pc))\n",
    "            with open(file,mode='w',encoding='utf-8') as f:\n",
    "                json.dump(tmp,f, ensure_ascii=False)\n",
    "            pc+=1\n",
    "            tmp=[]"
   ]
  },
  {
   "cell_type": "code",
   "execution_count": 4,
   "metadata": {},
   "outputs": [],
   "source": [
    "import torch"
   ]
  },
  {
   "cell_type": "code",
   "execution_count": 5,
   "metadata": {},
   "outputs": [
    {
     "name": "stderr",
     "output_type": "stream",
     "text": [
      "C:\\Users\\Orbis\\Anaconda3\\lib\\site-packages\\tensorflow\\python\\framework\\dtypes.py:523: FutureWarning: Passing (type, 1) or '1type' as a synonym of type is deprecated; in a future version of numpy, it will be understood as (type, (1,)) / '(1,)type'.\n",
      "  _np_qint8 = np.dtype([(\"qint8\", np.int8, 1)])\n",
      "C:\\Users\\Orbis\\Anaconda3\\lib\\site-packages\\tensorflow\\python\\framework\\dtypes.py:524: FutureWarning: Passing (type, 1) or '1type' as a synonym of type is deprecated; in a future version of numpy, it will be understood as (type, (1,)) / '(1,)type'.\n",
      "  _np_quint8 = np.dtype([(\"quint8\", np.uint8, 1)])\n",
      "C:\\Users\\Orbis\\Anaconda3\\lib\\site-packages\\tensorflow\\python\\framework\\dtypes.py:525: FutureWarning: Passing (type, 1) or '1type' as a synonym of type is deprecated; in a future version of numpy, it will be understood as (type, (1,)) / '(1,)type'.\n",
      "  _np_qint16 = np.dtype([(\"qint16\", np.int16, 1)])\n",
      "C:\\Users\\Orbis\\Anaconda3\\lib\\site-packages\\tensorflow\\python\\framework\\dtypes.py:526: FutureWarning: Passing (type, 1) or '1type' as a synonym of type is deprecated; in a future version of numpy, it will be understood as (type, (1,)) / '(1,)type'.\n",
      "  _np_quint16 = np.dtype([(\"quint16\", np.uint16, 1)])\n",
      "C:\\Users\\Orbis\\Anaconda3\\lib\\site-packages\\tensorflow\\python\\framework\\dtypes.py:527: FutureWarning: Passing (type, 1) or '1type' as a synonym of type is deprecated; in a future version of numpy, it will be understood as (type, (1,)) / '(1,)type'.\n",
      "  _np_qint32 = np.dtype([(\"qint32\", np.int32, 1)])\n",
      "C:\\Users\\Orbis\\Anaconda3\\lib\\site-packages\\tensorflow\\python\\framework\\dtypes.py:532: FutureWarning: Passing (type, 1) or '1type' as a synonym of type is deprecated; in a future version of numpy, it will be understood as (type, (1,)) / '(1,)type'.\n",
      "  np_resource = np.dtype([(\"resource\", np.ubyte, 1)])\n"
     ]
    }
   ],
   "source": [
    "from transformers import BertTokenizer"
   ]
  },
  {
   "cell_type": "code",
   "execution_count": 6,
   "metadata": {},
   "outputs": [],
   "source": [
    "rupat=\".../SumPipeline/model/runewsbert\""
   ]
  },
  {
   "cell_type": "code",
   "execution_count": 7,
   "metadata": {},
   "outputs": [],
   "source": [
    "tokenizer = BertTokenizer.from_pretrained(rupat, do_lower_case=False)"
   ]
  },
  {
   "cell_type": "code",
   "execution_count": 10,
   "metadata": {},
   "outputs": [
    {
     "name": "stdout",
     "output_type": "stream",
     "text": [
      "[unused1] Дело ректора ДВФУ передали Главному следственному управлению СКР [unused2]\n",
      "[CLS] Расследование по делу ректора Дальневосточного федерального университета ( ДВФУ ) Сергея Иванца, обвиняемого в организации злоупотребления полномочиями, будет вести Главное следственное управление СКР. [SEP] [CLS] Иванец находится под домашним арестом, накануне суд продлил ему эту меру пресечения, сообщил \" Интерфаксу \" источник в правоохранительных органах. [SEP] [CLS] Как сообщалось, в марте отношении ректора ДВФУ было возбуждено уголовное дело по ч. 3 ст. 33, ч. 3 ст. 285 УК РФ ( организация злоупотребления должностными полномочиями ). [SEP] [CLS] Ранее по тем же обстоятельствам были помещены под домашний арест два проректора этого федерального вуза Алексей Цхе и Виктор Атаманюк. [SEP] [CLS] По версии следствия, в 2011 году между университетом и ООО \" Современный университет \" заключен контракт на создание информационно-технической системы. [SEP] [CLS] Сумма контракта превышала 647 млн рублей. [SEP] [CLS] Выполнив два из пяти этапов программы, Иванец дал указание Цхе и Атаманюку изготовить и подписать акты сдачи-приемки исполнения обязательств по третьему этапу с подставными данными, а 15 сентября 2015 года распорядился на основании этих актов перевести более 20 млн рублей с расчетного счета университета на расчетный счет компании. [SEP] [CLS] Сергей Иванец был назначен ректором ДВФУ в июле 2012 года. [SEP] [CLS] До этого он занимал пост заместителя министра образования и науки РФ. [SEP]\n"
     ]
    }
   ],
   "source": [
    "res=torch.load(\"./headline_bert/ruhead.test.0.bert.pt\")\n",
    "print(tokenizer.decode(res[10]['tgt']))\n",
    "print(tokenizer.decode(res[10]['src']))"
   ]
  },
  {
   "cell_type": "code",
   "execution_count": 87,
   "metadata": {},
   "outputs": [],
   "source": [
    "res=torch.load(\"./bert_data/runews.test.0.bert.pt\")"
   ]
  },
  {
   "cell_type": "code",
   "execution_count": 95,
   "metadata": {},
   "outputs": [
    {
     "data": {
      "text/plain": [
       "'[unused1] Российские военные и представители международной коалиции во главе с США провели переговоры по ситуации в Сирии. [unused3] Об этом сообщает RT со ссылкой на представителя коалиции Райана Диллона. [unused3] Он рассказал, что основной темой обсуждения стало предотвращение инцидентов между военными двух сторон в ходе проведения военных операций на сирийской территории. [unused2]'"
      ]
     },
     "execution_count": 95,
     "metadata": {},
     "output_type": "execute_result"
    }
   ],
   "source": [
    "tokenizer.decode(res[0]['tgt'])"
   ]
  },
  {
   "cell_type": "code",
   "execution_count": 122,
   "metadata": {},
   "outputs": [
    {
     "data": {
      "text/plain": [
       "2003"
      ]
     },
     "execution_count": 122,
     "metadata": {},
     "output_type": "execute_result"
    }
   ],
   "source": [
    "max(len(r['src']) for r in res)"
   ]
  },
  {
   "cell_type": "code",
   "execution_count": 1,
   "metadata": {},
   "outputs": [],
   "source": [
    "import json"
   ]
  },
  {
   "cell_type": "code",
   "execution_count": 19,
   "metadata": {},
   "outputs": [],
   "source": [
    "res=[]\n",
    "with open('./presumm/runews.test.0.json', encoding='utf-8') as f:\n",
    "    res=json.loads(i)"
   ]
  },
  {
   "cell_type": "code",
   "execution_count": 21,
   "metadata": {},
   "outputs": [
    {
     "data": {
      "text/plain": [
       "[['Украина',\n",
       "  'внесла',\n",
       "  'на',\n",
       "  'рассмотрение',\n",
       "  'Совбеза',\n",
       "  'ООН',\n",
       "  'свой',\n",
       "  'проект',\n",
       "  'резолюции',\n",
       "  'о',\n",
       "  'миротворцах',\n",
       "  'в',\n",
       "  'Донбассе',\n",
       "  ',',\n",
       "  'сообщают',\n",
       "  'источники',\n",
       "  '«',\n",
       "  'Ъ',\n",
       "  '»',\n",
       "  ',',\n",
       "  'близкие',\n",
       "  'к',\n",
       "  'российской',\n",
       "  'делегации',\n",
       "  'и',\n",
       "  'секретариату',\n",
       "  'ООН',\n",
       "  '.'],\n",
       " ['С',\n",
       "  'точки',\n",
       "  'зрения',\n",
       "  'Киева',\n",
       "  ',',\n",
       "  'таким',\n",
       "  'образом',\n",
       "  'будет',\n",
       "  'подтверждена',\n",
       "  '«',\n",
       "  'роль',\n",
       "  'России',\n",
       "  'как',\n",
       "  'агрессора',\n",
       "  '»',\n",
       "  '.']]"
      ]
     },
     "execution_count": 21,
     "metadata": {},
     "output_type": "execute_result"
    }
   ],
   "source": [
    "res[0]['tgt']"
   ]
  },
  {
   "cell_type": "code",
   "execution_count": null,
   "metadata": {},
   "outputs": [],
   "source": []
  }
 ],
 "metadata": {
  "kernelspec": {
   "display_name": "Python 3",
   "language": "python",
   "name": "python3"
  },
  "language_info": {
   "codemirror_mode": {
    "name": "ipython",
    "version": 3
   },
   "file_extension": ".py",
   "mimetype": "text/x-python",
   "name": "python",
   "nbconvert_exporter": "python",
   "pygments_lexer": "ipython3",
   "version": "3.6.5"
  }
 },
 "nbformat": 4,
 "nbformat_minor": 2
}
